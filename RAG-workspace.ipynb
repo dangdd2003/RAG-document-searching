{
 "cells": [
  {
   "cell_type": "markdown",
   "metadata": {},
   "source": [
    "# Import required libraries"
   ]
  },
  {
   "cell_type": "code",
   "execution_count": 1,
   "metadata": {},
   "outputs": [],
   "source": [
    "import torch\n",
    "import os\n",
    "import urllib.request\n",
    "import matplotlib.pyplot as plt\n",
    "import pandas as pd\n",
    "from huggingface_hub import login\n",
    "from transformers import AutoTokenizer, AutoModelForCausalLM\n",
    "from langchain_community.document_loaders import PyPDFDirectoryLoader\n",
    "from langchain_text_splitters import RecursiveCharacterTextSplitter\n",
    "from langchain_huggingface import HuggingFaceEmbeddings\n",
    "from langchain_chroma import Chroma\n",
    "from sentence_transformers import SimilarityFunction\n",
    "from langchain.retrievers import ContextualCompressionRetriever\n",
    "from langchain.retrievers.document_compressors import CrossEncoderReranker\n",
    "from langchain_community.cross_encoders import HuggingFaceCrossEncoder"
   ]
  },
  {
   "cell_type": "markdown",
   "metadata": {},
   "source": [
    "# Test CUDA"
   ]
  },
  {
   "cell_type": "code",
   "execution_count": 2,
   "metadata": {},
   "outputs": [
    {
     "name": "stdout",
     "output_type": "stream",
     "text": [
      "CUDA is available!\n",
      "Device count: 2\n",
      "Current device index: 0\n",
      "Current device name: NVIDIA GeForce RTX 3090\n"
     ]
    }
   ],
   "source": [
    "# Test CUDA device\n",
    "if torch.cuda.is_available():\n",
    "  print(\"CUDA is available!\")\n",
    "  print(\"Device count:\", torch.cuda.device_count())\n",
    "  print(\"Current device index:\", torch.cuda.current_device())\n",
    "  print(\"Current device name:\", torch.cuda.get_device_name(torch.cuda.current_device()))\n",
    "  device = \"cuda\"\n",
    "else:\n",
    "  print(\"CUDA is not available!\")\n",
    "  device = \"cpu\""
   ]
  },
  {
   "cell_type": "markdown",
   "metadata": {},
   "source": [
    "# Login to Huggingface Hub"
   ]
  },
  {
   "cell_type": "code",
   "execution_count": 3,
   "metadata": {},
   "outputs": [],
   "source": [
    "HF_TOKEN = os.getenv(\"HF_TOKEN\")\n",
    "login(token=HF_TOKEN, add_to_git_credential=False, new_session=False)"
   ]
  },
  {
   "cell_type": "markdown",
   "metadata": {},
   "source": [
    "# Load model\n",
    "Có thể thay đổi model khác tuỳ vào sở thích, mình dùng mặc định [gemma-2  2 tỉ params](https://huggingface.co/google/gemma-2-2b-it) đã được instruct của Google."
   ]
  },
  {
   "cell_type": "code",
   "execution_count": 4,
   "metadata": {},
   "outputs": [
    {
     "data": {
      "application/vnd.jupyter.widget-view+json": {
       "model_id": "0f445d6715c9404a9be336a00369f575",
       "version_major": 2,
       "version_minor": 0
      },
      "text/plain": [
       "Loading checkpoint shards:   0%|          | 0/2 [00:00<?, ?it/s]"
      ]
     },
     "metadata": {},
     "output_type": "display_data"
    }
   ],
   "source": [
    "# Load model directly\n",
    "model_name = \"google/gemma-2-2b-it\"\n",
    "# model_name = \"Qwen/Qwen2.5-7B\"\n",
    "model = AutoModelForCausalLM.from_pretrained(\n",
    "    model_name,\n",
    "    torch_dtype=\"auto\",\n",
    "    device_map=\"auto\"\n",
    ")\n",
    "tokenizer = AutoTokenizer.from_pretrained(model_name)"
   ]
  },
  {
   "cell_type": "markdown",
   "metadata": {},
   "source": [
    "# Test model"
   ]
  },
  {
   "cell_type": "code",
   "execution_count": 5,
   "metadata": {},
   "outputs": [
    {
     "name": "stderr",
     "output_type": "stream",
     "text": [
      "The 'batch_size' attribute of HybridCache is deprecated and will be removed in v4.49. Use the more precisely named 'self.max_batch_size' attribute instead.\n"
     ]
    },
    {
     "name": "stdout",
     "output_type": "stream",
     "text": [
      "Xin chào! 👋  \n",
      "\n",
      "Bạn có muốn tôi giúp gì không? 😊 \n",
      "\n"
     ]
    }
   ],
   "source": [
    "prompt = \"Xin chào!\"\n",
    "messages = [\n",
    "    # {\"role\": \"system\", \"content\": \"You are Qwen, created by Alibaba Cloud. You are a helpful and harmless assistant\"}, # Used for Qwen2.5-7B\n",
    "    {\"role\": \"user\", \"content\": prompt},\n",
    "]\n",
    "text = tokenizer.apply_chat_template(\n",
    "    messages,\n",
    "    tokenize=False,\n",
    "    add_generation_prompt=True,\n",
    ")\n",
    "model_inputs = tokenizer([text], return_tensors=\"pt\").to(model.device)\n",
    "\n",
    "generated_ids = model.generate(\n",
    "    **model_inputs,\n",
    "    max_new_tokens=2048,\n",
    ")\n",
    "generated_text = [\n",
    "    output_ids[len(input_ids):] for input_ids, output_ids in zip(model_inputs.input_ids, generated_ids)\n",
    "]\n",
    "response = tokenizer.batch_decode(generated_text, skip_special_tokens=True)[0]\n",
    "print(response)"
   ]
  },
  {
   "cell_type": "markdown",
   "metadata": {},
   "source": [
    "# Initialize Vector database\n",
    "Có nhiều model embedding dùng cho tiếng việt khá ổn, sau khi test vài cái thì mình thấy [embedding](https://huggingface.co/dangvantuan/vietnamese-document-embedding) của anh [dangvantuan](https://huggingface.co/dangvantuan) dùng tốt nhất cho các văn bản tiếng việt lớn khi token tối đa lên tới 8192."
   ]
  },
  {
   "cell_type": "code",
   "execution_count": 6,
   "metadata": {},
   "outputs": [
    {
     "name": "stdout",
     "output_type": "stream",
     "text": [
      "Number of existed chunks in Chroma DB: 0\n",
      "Number of new chunks to add: 318\n",
      "Adding new chunks to Chroma DB...\n"
     ]
    }
   ],
   "source": [
    "# embedding_model = \"sentence-transformers/all-MiniLM-L6-v2\"\n",
    "embedding_model = \"dangvantuan/vietnamese-document-embedding\"\n",
    "embeddings = HuggingFaceEmbeddings(\n",
    "    model_name=embedding_model,\n",
    "    multi_process=True,\n",
    "    model_kwargs={\n",
    "        \"similarity_fn_name\": SimilarityFunction.EUCLIDEAN,\n",
    "        \"device\": device,\n",
    "        \"trust_remote_code\": True,\n",
    "        },\n",
    "    encode_kwargs={\n",
    "        \"normalize_embeddings\": True,\n",
    "        },\n",
    "    show_progress=True,\n",
    ")\n",
    "\n",
    "DATA_PATH = \"./data\"\n",
    "CHROMA_DB_PATH = \"./chroma\"\n",
    "DOC_SEPARATOR = [\n",
    "    \"\\n\\n\",\n",
    "    \"\\n\",\n",
    "    \".\\n\",\n",
    "    \";\\n\",\n",
    "] # Add more separators depending on the document's structure\n",
    "\n",
    "if not os.path.exists(DATA_PATH):\n",
    "    os.makedirs(DATA_PATH)\n",
    "    try:\n",
    "        # urllib.request.urlretrieve(\"https://aclanthology.org/2020.findings-emnlp.92.pdf\", f\"{DATA_PATH}/PhoBERT - Pretrained Language Models for Vietnamese.pdf\")\n",
    "        # urllib.request.urlretrieve(\"https://arxiv.org/pdf/2408.00118\", f\"{DATA_PATH}/Gemma 2 - Improving Open Language Models at a Practical Size.pdf\")\n",
    "        # urllib.request.urlretrieve(\"https://arxiv.org/pdf/2403.08295\", f\"{DATA_PATH}/Gemma - Open Models Based on Gemini Research and Technology.pdf\")\n",
    "        # urllib.request.urlretrieve(\"https://arxiv.org/pdf/2412.15115\", f\"{DATA_PATH}/Qwen2.5 - Technical Report.pdf\")\n",
    "        urllib.request.urlretrieve(\"https://datafiles.chinhphu.vn/cpp/files/vbpq/2024/9/36-2024-qh15.pdf\", f\"{DATA_PATH}/LUẬT TRẬT TỰ, AN TOÀN GIAO THÔNG ĐƯỜNG BỘ.pdf\")\n",
    "        urllib.request.urlretrieve(\"https://datafiles.chinhphu.vn/cpp/files/vbpq/2024/9/36-2024-qh15_tiep.pdf\", f\"{DATA_PATH}/VĂN BẢN QUY PHẠM PHÁP LUẬT.pdf\")\n",
    "    except Exception as e:\n",
    "        print(f\"Failed to download the file: {e}\")\n",
    "if not os.path.exists(CHROMA_DB_PATH):\n",
    "    os.makedirs(CHROMA_DB_PATH)\n",
    "\n",
    "# Load document and split into chunks\n",
    "document = PyPDFDirectoryLoader(DATA_PATH).load()\n",
    "chunks = RecursiveCharacterTextSplitter.from_huggingface_tokenizer(\n",
    "    tokenizer=AutoTokenizer.from_pretrained(model_name),\n",
    "    chunk_size=256, # Should be less than embedding model's max_seq_length\n",
    "    chunk_overlap=32, # It is recommend to set to 10-15% of chunk_size\n",
    "    strip_whitespace=True,\n",
    "    # is_separator_regex=False,\n",
    "    separators=DOC_SEPARATOR,\n",
    ").split_documents(document)\n",
    "\n",
    "# Create database\n",
    "db = Chroma(collection_name=\"papers\", persist_directory=CHROMA_DB_PATH, embedding_function=embeddings)\n",
    "\n",
    "# Assign unique ID to each chunk\n",
    "last_source_id = None\n",
    "current_chunk_index = 0\n",
    "\n",
    "for chunk in chunks:\n",
    "    source = chunk.metadata[\"source\"]\n",
    "    page = chunk.metadata[\"page\"]\n",
    "    current_source_id = f\"{source}:{page}\"\n",
    "\n",
    "    if current_source_id == last_source_id:\n",
    "        current_chunk_index += 1\n",
    "    else:\n",
    "        current_chunk_index = 0\n",
    "\n",
    "    chunk_id = f\"{current_source_id}:{current_chunk_index}\"\n",
    "    last_source_id = current_source_id\n",
    "\n",
    "    chunk.metadata[\"chunk_id\"] = chunk_id\n",
    "\n",
    "\n",
    "# Get existed chunks in database\n",
    "existed_chunks = db.get(include=[])\n",
    "existed_ids = set(existed_chunks[\"ids\"])\n",
    "print(f\"Number of existed chunks in Chroma DB: {len(existed_ids)}\")\n",
    "\n",
    "# Add new chunks to database\n",
    "new_chunks = [chunk for chunk in chunks if chunk.metadata[\"chunk_id\"] not in existed_ids]\n",
    "print(f\"Number of new chunks to add: {len(new_chunks)}\")\n",
    "\n",
    "if len(new_chunks):\n",
    "    print(\"Adding new chunks to Chroma DB...\")\n",
    "    new_chunks_ids = [chunk.metadata[\"chunk_id\"] for chunk in new_chunks]\n",
    "    db.add_documents(new_chunks, ids=new_chunks_ids, show_progress=True)\n",
    "else:\n",
    "    print(\"No new chunks to add.\")"
   ]
  },
  {
   "cell_type": "markdown",
   "metadata": {},
   "source": [
    "# Visuallization of token's counts of new chunks"
   ]
  },
  {
   "cell_type": "code",
   "execution_count": 7,
   "metadata": {},
   "outputs": [
    {
     "data": {
      "image/png": "[encoded data removed]",
      "text/plain": [
       "<Figure size 640x480 with 1 Axes>"
      ]
     },
     "metadata": {},
     "output_type": "display_data"
    }
   ],
   "source": [
    "chunk_lengths = [len(tokenizer.encode(chunk.page_content)) for chunk in chunks]\n",
    "fig = pd.Series(chunk_lengths).hist()\n",
    "plt.title(\"Distribution of chunk lengths of current documents (in count of tokens)\")\n",
    "plt.show()"
   ]
  },
  {
   "cell_type": "markdown",
   "metadata": {},
   "source": [
    "# Main question\n",
    "Thay đổi câu hỏi rồi chạy lại code phần \"Search with RAG\" để gen ra câu trả lời mới"
   ]
  },
  {
   "cell_type": "code",
   "execution_count": 8,
   "metadata": {},
   "outputs": [],
   "source": [
    "question = \"Xe gắn máy là xe gì?\""
   ]
  },
  {
   "cell_type": "markdown",
   "metadata": {},
   "source": [
    "# Search with RAG\n",
    "Mình dùng [phoBERT base v2](https://huggingface.co/vinai/phobert-base-v2) để reranking để bằng cross-encoder cho tập các đoạn văn bản đã truy vấn từ chromadb, tăng độ chính xác tìm văn bản liên quan đến câu hỏi trong database."
   ]
  },
  {
   "cell_type": "code",
   "execution_count": 9,
   "metadata": {},
   "outputs": [
    {
     "name": "stderr",
     "output_type": "stream",
     "text": [
      "Some weights of RobertaForSequenceClassification were not initialized from the model checkpoint at vinai/phobert-base-v2 and are newly initialized: ['classifier.dense.bias', 'classifier.dense.weight', 'classifier.out_proj.bias', 'classifier.out_proj.weight']\n",
      "You should probably TRAIN this model on a down-stream task to be able to use it for predictions and inference.\n",
      "Asking to truncate to max_length but no maximum length is provided and the model has no predefined maximum length. Default to no truncation.\n"
     ]
    },
    {
     "name": "stdout",
     "output_type": "stream",
     "text": [
      "Xe gắn máy là xe có hai hoặc ba bánh chạy bằng động cơ, được thiết kế, sản xuất để hoạt động trên đường bộ, có vận tốc thiết kế không lớn hơn 50 km/h. \n",
      "\n",
      "------------\n",
      "Nguồn: ['data/VĂN BẢN QUY PHẠM PHÁP LUẬT.pdf:5:3', 'data/VĂN BẢN QUY PHẠM PHÁP LUẬT.pdf:28:3', 'data/VĂN BẢN QUY PHẠM PHÁP LUẬT.pdf:7:3', 'data/VĂN BẢN QUY PHẠM PHÁP LUẬT.pdf:23:3', 'data/VĂN BẢN QUY PHẠM PHÁP LUẬT.pdf:27:3', 'data/VĂN BẢN QUY PHẠM PHÁP LUẬT.pdf:8:0', 'data/VĂN BẢN QUY PHẠM PHÁP LUẬT.pdf:28:2', 'data/VĂN BẢN QUY PHẠM PHÁP LUẬT.pdf:27:2', 'data/VĂN BẢN QUY PHẠM PHÁP LUẬT.pdf:24:0', 'data/VĂN BẢN QUY PHẠM PHÁP LUẬT.pdf:8:1', 'data/VĂN BẢN QUY PHẠM PHÁP LUẬT.pdf:14:3', 'data/VĂN BẢN QUY PHẠM PHÁP LUẬT.pdf:20:3', 'data/VĂN BẢN QUY PHẠM PHÁP LUẬT.pdf:9:1', 'data/VĂN BẢN QUY PHẠM PHÁP LUẬT.pdf:13:1', 'data/VĂN BẢN QUY PHẠM PHÁP LUẬT.pdf:31:0']\n",
      "Chú thích nguồn: (văn bản):(số trang):(số đoạn)\n"
     ]
    }
   ],
   "source": [
    "# Use phoBERT model for reranking\n",
    "# bert_model = \"colbert-ir/colbertv2.0\"\n",
    "bert_model = \"vinai/phobert-base-v2\"\n",
    "bert = HuggingFaceCrossEncoder(\n",
    "    model_name=bert_model,\n",
    "    model_kwargs={\n",
    "        \"device\": device,\n",
    "        }\n",
    "    )\n",
    "retrieved_chunks = db.as_retriever(search_kwargs={\"k\":50})\n",
    "compressor = CrossEncoderReranker(model=bert, top_n=15)\n",
    "compression_retriever = ContextualCompressionRetriever(\n",
    "    base_compressor=compressor,\n",
    "    base_retriever=retrieved_chunks,\n",
    ")\n",
    "retrieved_docs = compression_retriever.invoke(question)\n",
    "\n",
    "# Get source of retrieved chunks\n",
    "source = [doc.metadata.get(\"chunk_id\", None) for doc in retrieved_docs]\n",
    "\n",
    "# Prepare prompt for generation\n",
    "context = \"\".join([doc.page_content for doc in retrieved_docs])\n",
    "PROMPT_TEMPLATE = [\n",
    "#     {\n",
    "#         \"role\": \"system\",\n",
    "#         \"content\": \"\"\"You are Qwen, created by Alibaba Cloud. You are a helpful and harmless assistant.\n",
    "# Using the information contained in the context,give a comprehensive answer to the question.\n",
    "# Respond only to the question asked, response should be concise and relevant to the question.\n",
    "# Provide the number of the source document when relevant.\n",
    "# If the answer cannot be deduced from the context, do not give an answer.\"\"\"\n",
    "#     }, # This role is for Qwen2.5\n",
    "    {\n",
    "        \"role\": \"user\",\n",
    "        \"content\": f\"\"\"Answer the question based only on the following context:\n",
    "{context}\n",
    "\n",
    "---------------------------------------------------------------\n",
    "Now, based on the context above, answer the following question:\n",
    "{question}\n",
    "\"\"\"\n",
    "    }\n",
    "]\n",
    "PROMPT_TEMPLATE_VN = [\n",
    "#     {\n",
    "#         \"role\": \"system\",\n",
    "#         \"content\": \"\"\"Bạn là Qwen, được tạo ra bởi Alibaba Cloud. Bạn là một trợ lý hữu ích và vô hại.\n",
    "# Dựa vào thông tin chứa trong ngữ cảnh, hãy trả lời câu hỏi một cách toàn diện.\n",
    "# Chỉ trả lời câu hỏi được đặt ra, phản hồi nên ngắn gọn và liên quan đến câu hỏi.\n",
    "# Cung cấp số của tài liệu nguồn khi cần thiết.\n",
    "# Nếu câu trả lời không thể suy luận từ ngữ cảnh, đừng trả lời.\"\"\"\n",
    "#     }, # This role is for Qwen2.5\n",
    "    {\n",
    "        \"role\": \"user\",\n",
    "        \"content\": f\"\"\"Trả lời câu hỏi chỉ dựa trên nội dung sau:\n",
    "{context}\n",
    "\n",
    "--------------------------------------------------------\n",
    "Bây giờ, dựa vào nội dung trên, hãy trả lời câu hỏi sau:\n",
    "{question}\n",
    "\"\"\"\n",
    "    }\n",
    "]\n",
    "rag_prompt_template = tokenizer.apply_chat_template(PROMPT_TEMPLATE_VN, tokenize=False, add_generation_prompt=True)\n",
    "model_inputs = tokenizer([rag_prompt_template], return_tensors=\"pt\").to(model.device)\n",
    "generated_ids = model.generate(\n",
    "    **model_inputs,\n",
    "    max_new_tokens=2048,\n",
    ")\n",
    "generated_text = [\n",
    "    output_ids[len(input_ids):] for input_ids, output_ids in zip(model_inputs.input_ids, generated_ids)\n",
    "]\n",
    "response = tokenizer.batch_decode(generated_text, skip_special_tokens=True)[0]\n",
    "print(f\"{response}\\n------------\\nNguồn: {source}\\nChú thích nguồn: (văn bản):(số trang):(số đoạn)\")"
   ]
  }
 ],
 "metadata": {
  "kernelspec": {
   "display_name": "Python 3 (ipykernel)",
   "language": "python",
   "name": "python3"
  },
  "language_info": {
   "codemirror_mode": {
    "name": "ipython",
    "version": 3
   },
   "file_extension": ".py",
   "mimetype": "text/x-python",
   "name": "python",
   "nbconvert_exporter": "python",
   "pygments_lexer": "ipython3",
   "version": "3.11.11"
  }
 },
 "nbformat": 4,
 "nbformat_minor": 2
}
